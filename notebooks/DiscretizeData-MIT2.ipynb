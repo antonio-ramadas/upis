{
 "cells": [
  {
   "cell_type": "markdown",
   "metadata": {},
   "source": [
    "# Discretization of the MIT dataset house 2"
   ]
  },
  {
   "cell_type": "code",
   "execution_count": 1,
   "metadata": {
    "collapsed": true
   },
   "outputs": [],
   "source": [
    "%matplotlib inline\n",
    "\n",
    "# Hacky solution to set the working path to the parent folder (upis)\n",
    "# It is supposed to execute only once\n",
    "import os, sys\n",
    "if os.getcwd().find('notebooks') >= 0:\n",
    "    os.chdir(os.getcwd() + '/..')\n",
    "    sys.path.append(os.getcwd() + '/sourcecode')\n",
    "\n",
    "import matplotlib.pyplot as plt\n",
    "\n",
    "from DataProcessor import DataProcessor\n",
    "from Parser import DatasetPath\n",
    "from Headers import SensorProcessedDataHeaders"
   ]
  },
  {
   "cell_type": "markdown",
   "metadata": {},
   "source": [
    "The dataset comes as the input of 3 separated files, but there is already implemented a script to process them and keep only the most important information for the learning algorithms. Let's start by first reading the dataset and process it to a structure with the sensor id, the activity label and two timestamps indicating the start and end."
   ]
  },
  {
   "cell_type": "code",
   "execution_count": 2,
   "metadata": {},
   "outputs": [
    {
     "data": {
      "text/html": [
       "<div>\n",
       "<style scoped>\n",
       "    .dataframe tbody tr th:only-of-type {\n",
       "        vertical-align: middle;\n",
       "    }\n",
       "\n",
       "    .dataframe tbody tr th {\n",
       "        vertical-align: top;\n",
       "    }\n",
       "\n",
       "    .dataframe thead th {\n",
       "        text-align: right;\n",
       "    }\n",
       "</style>\n",
       "<table border=\"1\" class=\"dataframe\">\n",
       "  <thead>\n",
       "    <tr style=\"text-align: right;\">\n",
       "      <th></th>\n",
       "      <th>SENSOR_ID</th>\n",
       "      <th>ACTIVITY</th>\n",
       "      <th>START</th>\n",
       "      <th>END</th>\n",
       "    </tr>\n",
       "  </thead>\n",
       "  <tbody>\n",
       "    <tr>\n",
       "      <th>0</th>\n",
       "      <td>115</td>\n",
       "      <td>Preparing dinner</td>\n",
       "      <td>2003-05-01 16:14:24</td>\n",
       "      <td>2003-05-01 16:16:16</td>\n",
       "    </tr>\n",
       "    <tr>\n",
       "      <th>1</th>\n",
       "      <td>115</td>\n",
       "      <td>Preparing dinner</td>\n",
       "      <td>2003-05-01 16:17:10</td>\n",
       "      <td>2003-05-01 16:17:21</td>\n",
       "    </tr>\n",
       "    <tr>\n",
       "      <th>2</th>\n",
       "      <td>79</td>\n",
       "      <td>Preparing dinner</td>\n",
       "      <td>2003-05-01 16:17:45</td>\n",
       "      <td>2003-05-01 16:18:18</td>\n",
       "    </tr>\n",
       "    <tr>\n",
       "      <th>3</th>\n",
       "      <td>73</td>\n",
       "      <td>Preparing dinner</td>\n",
       "      <td>2003-05-01 16:17:50</td>\n",
       "      <td>2003-05-01 16:17:54</td>\n",
       "    </tr>\n",
       "    <tr>\n",
       "      <th>4</th>\n",
       "      <td>73</td>\n",
       "      <td>Preparing dinner</td>\n",
       "      <td>2003-05-01 16:18:09</td>\n",
       "      <td>2003-05-01 16:18:15</td>\n",
       "    </tr>\n",
       "  </tbody>\n",
       "</table>\n",
       "</div>"
      ],
      "text/plain": [
       "  SENSOR_ID          ACTIVITY                START                  END\n",
       "0       115  Preparing dinner  2003-05-01 16:14:24  2003-05-01 16:16:16\n",
       "1       115  Preparing dinner  2003-05-01 16:17:10  2003-05-01 16:17:21\n",
       "2        79  Preparing dinner  2003-05-01 16:17:45  2003-05-01 16:18:18\n",
       "3        73  Preparing dinner  2003-05-01 16:17:50  2003-05-01 16:17:54\n",
       "4        73  Preparing dinner  2003-05-01 16:18:09  2003-05-01 16:18:15"
      ]
     },
     "execution_count": 2,
     "metadata": {},
     "output_type": "execute_result"
    }
   ],
   "source": [
    "path = DatasetPath.MIT2\n",
    "\n",
    "dp = DataProcessor(path=path)\n",
    "data = dp.process_sensors()\n",
    "\n",
    "data.head()"
   ]
  },
  {
   "cell_type": "markdown",
   "metadata": {},
   "source": [
    "As we can see, it is difficult to indicate how long the sensor has been active only from the two timestamps. Let's create a new column which indicates this.\n",
    "\n",
    "Why do we do this?\n",
    "\n",
    "Because classification algorithms do not handle well timestamps and it is more efficient to explicite state the data we want to consider. (Also, one of the other limitations is that they do not have the capability to deduce that the day repeats every 24h.) We could build a custom algorithm, or we can process the data to discretise the timestamps by the period they start and how long did they last. We will choose the last option."
   ]
  },
  {
   "cell_type": "code",
   "execution_count": 3,
   "metadata": {},
   "outputs": [
    {
     "data": {
      "text/html": [
       "<div>\n",
       "<style scoped>\n",
       "    .dataframe tbody tr th:only-of-type {\n",
       "        vertical-align: middle;\n",
       "    }\n",
       "\n",
       "    .dataframe tbody tr th {\n",
       "        vertical-align: top;\n",
       "    }\n",
       "\n",
       "    .dataframe thead th {\n",
       "        text-align: right;\n",
       "    }\n",
       "</style>\n",
       "<table border=\"1\" class=\"dataframe\">\n",
       "  <thead>\n",
       "    <tr style=\"text-align: right;\">\n",
       "      <th></th>\n",
       "      <th>SENSOR_ID</th>\n",
       "      <th>ACTIVITY</th>\n",
       "      <th>START</th>\n",
       "      <th>END</th>\n",
       "      <th>duration</th>\n",
       "    </tr>\n",
       "  </thead>\n",
       "  <tbody>\n",
       "    <tr>\n",
       "      <th>0</th>\n",
       "      <td>115</td>\n",
       "      <td>Preparing dinner</td>\n",
       "      <td>2003-05-01 16:14:24</td>\n",
       "      <td>2003-05-01 16:16:16</td>\n",
       "      <td>00:01:52</td>\n",
       "    </tr>\n",
       "    <tr>\n",
       "      <th>1</th>\n",
       "      <td>115</td>\n",
       "      <td>Preparing dinner</td>\n",
       "      <td>2003-05-01 16:17:10</td>\n",
       "      <td>2003-05-01 16:17:21</td>\n",
       "      <td>00:00:11</td>\n",
       "    </tr>\n",
       "    <tr>\n",
       "      <th>2</th>\n",
       "      <td>79</td>\n",
       "      <td>Preparing dinner</td>\n",
       "      <td>2003-05-01 16:17:45</td>\n",
       "      <td>2003-05-01 16:18:18</td>\n",
       "      <td>00:00:33</td>\n",
       "    </tr>\n",
       "    <tr>\n",
       "      <th>3</th>\n",
       "      <td>73</td>\n",
       "      <td>Preparing dinner</td>\n",
       "      <td>2003-05-01 16:17:50</td>\n",
       "      <td>2003-05-01 16:17:54</td>\n",
       "      <td>00:00:04</td>\n",
       "    </tr>\n",
       "    <tr>\n",
       "      <th>4</th>\n",
       "      <td>73</td>\n",
       "      <td>Preparing dinner</td>\n",
       "      <td>2003-05-01 16:18:09</td>\n",
       "      <td>2003-05-01 16:18:15</td>\n",
       "      <td>00:00:06</td>\n",
       "    </tr>\n",
       "  </tbody>\n",
       "</table>\n",
       "</div>"
      ],
      "text/plain": [
       "  SENSOR_ID          ACTIVITY                START                  END  \\\n",
       "0       115  Preparing dinner  2003-05-01 16:14:24  2003-05-01 16:16:16   \n",
       "1       115  Preparing dinner  2003-05-01 16:17:10  2003-05-01 16:17:21   \n",
       "2        79  Preparing dinner  2003-05-01 16:17:45  2003-05-01 16:18:18   \n",
       "3        73  Preparing dinner  2003-05-01 16:17:50  2003-05-01 16:17:54   \n",
       "4        73  Preparing dinner  2003-05-01 16:18:09  2003-05-01 16:18:15   \n",
       "\n",
       "  duration  \n",
       "0 00:01:52  \n",
       "1 00:00:11  \n",
       "2 00:00:33  \n",
       "3 00:00:04  \n",
       "4 00:00:06  "
      ]
     },
     "execution_count": 3,
     "metadata": {},
     "output_type": "execute_result"
    }
   ],
   "source": [
    "data['duration'] = data[SensorProcessedDataHeaders.END] - data[SensorProcessedDataHeaders.START]\n",
    "\n",
    "data.head()"
   ]
  },
  {
   "cell_type": "markdown",
   "metadata": {},
   "source": [
    "Now that we have the duration, let's sort them, because we want to see what is their distribution and sorting them helps making better decisions."
   ]
  },
  {
   "cell_type": "code",
   "execution_count": 4,
   "metadata": {},
   "outputs": [
    {
     "data": {
      "text/plain": [
       "1546   00:00:01\n",
       "1559   00:00:01\n",
       "911    00:00:01\n",
       "1558   00:00:01\n",
       "916    00:00:01\n",
       "Name: duration, dtype: timedelta64[ns]"
      ]
     },
     "execution_count": 4,
     "metadata": {},
     "output_type": "execute_result"
    }
   ],
   "source": [
    "duration = data['duration'].copy()\n",
    "\n",
    "duration.sort_values(inplace=True)\n",
    "\n",
    "duration.head()"
   ]
  },
  {
   "cell_type": "markdown",
   "metadata": {},
   "source": [
    "As we can see, we have repeated values. Let's convert them into seconds and count the frequency of each unique value."
   ]
  },
  {
   "cell_type": "code",
   "execution_count": 5,
   "metadata": {},
   "outputs": [
    {
     "name": "stdout",
     "output_type": "stream",
     "text": [
      "These are the 10 most frequent durations:\n",
      "1.0     211\n",
      "3.0     109\n",
      "4.0     107\n",
      "5.0     100\n",
      "2.0      93\n",
      "7.0      87\n",
      "6.0      65\n",
      "8.0      46\n",
      "9.0      44\n",
      "11.0     39\n",
      "Name: duration, dtype: int64\n",
      "\n",
      "These are the 10 least frequent durations:\n",
      "501.0      1\n",
      "202.0      1\n",
      "206.0      1\n",
      "16111.0    1\n",
      "210.0      1\n",
      "218.0      1\n",
      "348.0      1\n",
      "16246.0    1\n",
      "436.0      1\n",
      "49749.0    1\n",
      "Name: duration, dtype: int64\n",
      "\n",
      "And in total we have 554 different values\n"
     ]
    }
   ],
   "source": [
    "duration_seconds = duration.apply(lambda x: x.total_seconds())\n",
    "\n",
    "print('These are the 10 most frequent durations:')\n",
    "print(duration_seconds.value_counts().head(10))\n",
    "\n",
    "print('\\nThese are the 10 least frequent durations:')\n",
    "print(duration_seconds.value_counts().tail(10))\n",
    "\n",
    "print('\\nAnd in total we have', duration_seconds.value_counts().shape[0], 'different values')"
   ]
  },
  {
   "cell_type": "code",
   "execution_count": 6,
   "metadata": {},
   "outputs": [
    {
     "name": "stdout",
     "output_type": "stream",
     "text": [
      "Also, there are 382 values which only occur one time\n"
     ]
    }
   ],
   "source": [
    "def frequency_bigger_than(count):\n",
    "    return duration_seconds.value_counts()[duration_seconds.value_counts() > count]\n",
    "\n",
    "print('Also, there are', frequency_bigger_than(0).shape[0] - frequency_bigger_than(1).shape[0], 'values which only occur one time')"
   ]
  },
  {
   "cell_type": "markdown",
   "metadata": {},
   "source": [
    "As we can see we have 382 sensor activities whose exact time span occurs only one time. Can we discard them? Well, no. Given that the precision is to the second the same activity may not last always the same. So, let's cluster them to allow better decisions (we do this because we have too many single values which would deteriorate the perform of, for instance, a Random Forest)."
   ]
  },
  {
   "cell_type": "code",
   "execution_count": 7,
   "metadata": {},
   "outputs": [
    {
     "data": {
      "image/png": "[encoded data removed]",
      "text/plain": [
       "<matplotlib.figure.Figure at 0x10f761128>"
      ]
     },
     "metadata": {},
     "output_type": "display_data"
    }
   ],
   "source": [
    "n_bins = 30\n",
    "\n",
    "plt.figure(figsize=(15,14))\n",
    "\n",
    "plt.subplots_adjust(hspace=0.3)\n",
    "\n",
    "plt.subplot(2,1,1)\n",
    "plt.title(f'This is what the data looks like if we have {n_bins} bins')\n",
    "plt.xlabel('Duration (seconds)')\n",
    "plt.ylabel('Frequency')\n",
    "plt.hist(duration_seconds, bins=n_bins)\n",
    "\n",
    "plt.subplot(2,1,2)\n",
    "plt.title('And if we ignore the values that happen only once, then it looks like this (notice that both axis changed)')\n",
    "plt.xlabel('Duration (seconds)')\n",
    "plt.ylabel('Frequency')\n",
    "plt.hist(frequency_bigger_than(1), bins=n_bins)\n",
    "plt.ioff()"
   ]
  },
  {
   "cell_type": "markdown",
   "metadata": {},
   "source": [
    "As we can see this distribution is very similar to a [pareto distribution](https://en.wikipedia.org/wiki/Pareto_distribution). In fact, you can easily see it with a lognormal scale."
   ]
  },
  {
   "cell_type": "code",
   "execution_count": 8,
   "metadata": {},
   "outputs": [
    {
     "name": "stdout",
     "output_type": "stream",
     "text": [
      "0.75 of the total values last, at most, 233.50000000000003 seconds\n"
     ]
    }
   ],
   "source": [
    "percentile = 0.75\n",
    "\n",
    "print(percentile, 'of the total values last, at most,', duration_seconds.quantile(percentile), 'seconds')"
   ]
  },
  {
   "cell_type": "markdown",
   "metadata": {},
   "source": [
    "So, 25% of the values last more than 233 seconds. From now on, let's not consider more these values for a while and let's focus on the other 75%."
   ]
  },
  {
   "cell_type": "code",
   "execution_count": 9,
   "metadata": {
    "collapsed": true
   },
   "outputs": [],
   "source": [
    "long_duration = duration_seconds[duration_seconds >= 233]"
   ]
  },
  {
   "cell_type": "markdown",
   "metadata": {},
   "source": [
    "Now that we stored on another variable all the durations longer or equal to 233 seconds, let's remove them from the variable we are analysing."
   ]
  },
  {
   "cell_type": "code",
   "execution_count": 10,
   "metadata": {},
   "outputs": [
    {
     "name": "stdout",
     "output_type": "stream",
     "text": [
      "Total of 1471 rows\n"
     ]
    }
   ],
   "source": [
    "duration_seconds = duration_seconds[duration_seconds < 233]\n",
    "\n",
    "print('Total of', duration_seconds.shape[0], 'rows')"
   ]
  },
  {
   "cell_type": "markdown",
   "metadata": {},
   "source": [
    "Let's plot it again"
   ]
  },
  {
   "cell_type": "code",
   "execution_count": 11,
   "metadata": {},
   "outputs": [
    {
     "data": {
      "image/png": "[encoded data removed]",
      "text/plain": [
       "<matplotlib.figure.Figure at 0x10fd20710>"
      ]
     },
     "metadata": {},
     "output_type": "display_data"
    }
   ],
   "source": [
    "plt.figure(figsize=(20,7))\n",
    "\n",
    "plt.title('This is what the data looks like if we have ' + str(n_bins) + ' bins')\n",
    "plt.hist(duration_seconds, bins=n_bins)\n",
    "\n",
    "plt.ioff()"
   ]
  },
  {
   "cell_type": "code",
   "execution_count": 12,
   "metadata": {},
   "outputs": [
    {
     "name": "stdout",
     "output_type": "stream",
     "text": [
      "0.75 of the total values last, at most, 19.5 seconds\n"
     ]
    }
   ],
   "source": [
    "percentile = 0.75\n",
    "\n",
    "print(percentile, 'of the total values last, at most,', duration_seconds.quantile(percentile), 'seconds')"
   ]
  },
  {
   "cell_type": "markdown",
   "metadata": {},
   "source": [
    "Now, 25% of the values last longer than 19 seconds. Let's also separate these."
   ]
  },
  {
   "cell_type": "code",
   "execution_count": 13,
   "metadata": {},
   "outputs": [
    {
     "name": "stdout",
     "output_type": "stream",
     "text": [
      "Total of 1092 rows\n"
     ]
    }
   ],
   "source": [
    "medium_duration = duration_seconds[duration_seconds >= 19]\n",
    "\n",
    "duration_seconds = duration_seconds[duration_seconds < 19]\n",
    "\n",
    "print('Total of', duration_seconds.shape[0], 'rows')"
   ]
  },
  {
   "cell_type": "markdown",
   "metadata": {},
   "source": [
    "And again we plot"
   ]
  },
  {
   "cell_type": "code",
   "execution_count": 14,
   "metadata": {},
   "outputs": [
    {
     "data": {
      "image/png": "[encoded data removed]",
      "text/plain": [
       "<matplotlib.figure.Figure at 0x1100b1c50>"
      ]
     },
     "metadata": {},
     "output_type": "display_data"
    }
   ],
   "source": [
    "plt.figure(figsize=(20,7))\n",
    "\n",
    "plt.title('This is what the data looks like if we have' + str(n_bins))\n",
    "plt.hist(duration_seconds, bins=n_bins)\n",
    "\n",
    "plt.ioff()"
   ]
  },
  {
   "cell_type": "markdown",
   "metadata": {},
   "source": [
    "In a more numerical perspective:"
   ]
  },
  {
   "cell_type": "code",
   "execution_count": 15,
   "metadata": {},
   "outputs": [
    {
     "data": {
      "text/plain": [
       "1.0     211\n",
       "3.0     109\n",
       "4.0     107\n",
       "5.0     100\n",
       "2.0      93\n",
       "7.0      87\n",
       "6.0      65\n",
       "8.0      46\n",
       "9.0      44\n",
       "11.0     39\n",
       "10.0     35\n",
       "12.0     32\n",
       "16.0     28\n",
       "14.0     27\n",
       "15.0     25\n",
       "13.0     22\n",
       "17.0     14\n",
       "18.0      8\n",
       "Name: duration, dtype: int64"
      ]
     },
     "execution_count": 15,
     "metadata": {},
     "output_type": "execute_result"
    }
   ],
   "source": [
    "duration_seconds.value_counts()"
   ]
  },
  {
   "cell_type": "code",
   "execution_count": 16,
   "metadata": {},
   "outputs": [
    {
     "name": "stdout",
     "output_type": "stream",
     "text": [
      "0.5 of the total values last, at most, 5.0 seconds\n"
     ]
    }
   ],
   "source": [
    "percentile = 0.5\n",
    "\n",
    "print(percentile, 'of the total values last, at most,', duration_seconds.quantile(percentile), 'seconds')"
   ]
  },
  {
   "cell_type": "markdown",
   "metadata": {},
   "source": [
    "What can we deduce? Fast activities are very common. 50% of them last 5 seconds. Due to the small range of values (1 to 18 seconds), let's separate these into two groups of almost equal size."
   ]
  },
  {
   "cell_type": "code",
   "execution_count": 17,
   "metadata": {
    "collapsed": true
   },
   "outputs": [],
   "source": [
    "short_duration = duration_seconds[duration_seconds > 5]\n",
    "\n",
    "ultra_short_duration = duration_seconds[duration_seconds <= 5]"
   ]
  },
  {
   "cell_type": "markdown",
   "metadata": {},
   "source": [
    "So, now we divided into 4 clusters: ultra short, short, medium and long. However, this split is not statistically significant without analysing the variables with more detail while taking into account the context. Anyway, the process chosen for now is trial and error, and this analysis should be enough."
   ]
  },
  {
   "cell_type": "code",
   "execution_count": 18,
   "metadata": {},
   "outputs": [
    {
     "name": "stdout",
     "output_type": "stream",
     "text": [
      "There are 620 ultra short values (vales <= 5 seconds)\n",
      "There are 472 short values (5 < values < 19)\n",
      "There are 379 medium values (19 <= values < 233)\n",
      "There are 491 long values (>= 233 seconds)\n",
      "\n",
      "In total, there are 1962 values which is the same number as the number of rows of the original processed data ( 1962 )\n"
     ]
    }
   ],
   "source": [
    "print('There are', ultra_short_duration.shape[0], 'ultra short values (vales <= 5 seconds)')\n",
    "print('There are', short_duration.shape[0], 'short values (5 < values < 19)')\n",
    "print('There are', medium_duration.shape[0], 'medium values (19 <= values < 233)')\n",
    "print('There are', long_duration.shape[0], 'long values (>= 233 seconds)')\n",
    "\n",
    "total_values = ultra_short_duration.shape[0] + short_duration.shape[0] + medium_duration.shape[0] + long_duration.shape[0]\n",
    "\n",
    "print('\\nIn total, there are', total_values, 'values which is the same number as the ' +\n",
    "      'number of rows of the original processed data (', duration.shape[0], ')')"
   ]
  },
  {
   "cell_type": "markdown",
   "metadata": {},
   "source": [
    "### Let's close this chapter where we analyse the duration of the events, and now focus on the starting period.\n",
    "\n",
    "Let's start by seeing when the dataset starts and when it ends."
   ]
  },
  {
   "cell_type": "code",
   "execution_count": 19,
   "metadata": {},
   "outputs": [
    {
     "data": {
      "text/plain": [
       "Timestamp('2003-04-19 03:09:01')"
      ]
     },
     "execution_count": 19,
     "metadata": {},
     "output_type": "execute_result"
    }
   ],
   "source": [
    "data[SensorProcessedDataHeaders.START].min()"
   ]
  },
  {
   "cell_type": "code",
   "execution_count": 20,
   "metadata": {},
   "outputs": [
    {
     "data": {
      "text/plain": [
       "Timestamp('2003-05-04 22:16:02')"
      ]
     },
     "execution_count": 20,
     "metadata": {},
     "output_type": "execute_result"
    }
   ],
   "source": [
    "data[SensorProcessedDataHeaders.END].max()"
   ]
  },
  {
   "cell_type": "code",
   "execution_count": 21,
   "metadata": {},
   "outputs": [
    {
     "data": {
      "text/plain": [
       "Timedelta('15 days 19:07:01')"
      ]
     },
     "execution_count": 21,
     "metadata": {},
     "output_type": "execute_result"
    }
   ],
   "source": [
    "time_delta = data[SensorProcessedDataHeaders.END].max() - data[SensorProcessedDataHeaders.START].min()\n",
    "time_delta"
   ]
  },
  {
   "cell_type": "markdown",
   "metadata": {},
   "source": [
    "We now know that the dataset was collected in 2003 during March and April and it lasted 2 weeks (15 days). But what about their occurrence during the day? Let's just keep the hour"
   ]
  },
  {
   "cell_type": "code",
   "execution_count": 22,
   "metadata": {},
   "outputs": [
    {
     "data": {
      "text/plain": [
       "9     271\n",
       "5     211\n",
       "11    172\n",
       "7     145\n",
       "16    136\n",
       "6     131\n",
       "17    125\n",
       "10    122\n",
       "8     109\n",
       "15     90\n",
       "12     80\n",
       "19     64\n",
       "18     63\n",
       "14     58\n",
       "13     54\n",
       "20     52\n",
       "4      34\n",
       "21     25\n",
       "22      6\n",
       "2       5\n",
       "1       4\n",
       "0       3\n",
       "3       1\n",
       "23      1\n",
       "Name: START, dtype: int64"
      ]
     },
     "execution_count": 22,
     "metadata": {},
     "output_type": "execute_result"
    }
   ],
   "source": [
    "hours = data[SensorProcessedDataHeaders.START].apply(lambda x: x.hour)\n",
    "\n",
    "hours.value_counts()"
   ]
  },
  {
   "cell_type": "markdown",
   "metadata": {},
   "source": [
    "Let's start by first considering the usual periods of the day"
   ]
  },
  {
   "cell_type": "code",
   "execution_count": 23,
   "metadata": {},
   "outputs": [
    {
     "name": "stdout",
     "output_type": "stream",
     "text": [
      "Number of values for morning: 588\n",
      "Number of values for afternoon: 269\n",
      "Number of values for evening: 211\n",
      "Number of values for night: 389\n"
     ]
    }
   ],
   "source": [
    "morning = hours[hours[hours >= 7] & hours[hours <= 12]]\n",
    "afternoon = hours[hours[hours > 12] & hours[hours < 18]]\n",
    "evening = hours[hours >= 18] # 0 is midnight\n",
    "night = hours[hours < 7]\n",
    "\n",
    "print('Number of values for morning:', morning.shape[0])\n",
    "print('Number of values for afternoon:', afternoon.shape[0])\n",
    "print('Number of values for evening:', evening.shape[0])\n",
    "print('Number of values for night:', night.shape[0])"
   ]
  },
  {
   "cell_type": "markdown",
   "metadata": {},
   "source": [
    "We can see that there is less activity during the night than during the other periods. This possibly indicates that the user is sleeping. For now, we will avoid further study given that this split should be enough for now to test some algorithms. We will adjust the level of focus according to the results we get."
   ]
  },
  {
   "cell_type": "markdown",
   "metadata": {},
   "source": [
    "### Let's close this chapter where we analyse the periods of the day, and now focus on the day the activities occur.\n",
    "\n",
    "To be faster, let's infer that the habitant has routines and they are periodic. So, each 7 days the data mostly repeats itself. Given that, up to this point, we discarded the timestamps of start and end of the activities to periods of the day and their duration, we must also add an extra variable that takes into consideration when they occur. So, let's do it."
   ]
  },
  {
   "cell_type": "code",
   "execution_count": 24,
   "metadata": {},
   "outputs": [
    {
     "data": {
      "text/plain": [
       "array(['Thursday', 'Friday', 'Saturday', 'Sunday', 'Monday', 'Tuesday',\n",
       "       'Wednesday'], dtype=object)"
      ]
     },
     "execution_count": 24,
     "metadata": {},
     "output_type": "execute_result"
    }
   ],
   "source": [
    "days = data[SensorProcessedDataHeaders.START].apply(lambda x: x.weekday_name)\n",
    "days.unique()"
   ]
  },
  {
   "cell_type": "code",
   "execution_count": 25,
   "metadata": {},
   "outputs": [
    {
     "data": {
      "text/plain": [
       "Sunday       448\n",
       "Saturday     422\n",
       "Thursday     341\n",
       "Wednesday    270\n",
       "Friday       185\n",
       "Monday       166\n",
       "Tuesday      130\n",
       "Name: START, dtype: int64"
      ]
     },
     "execution_count": 25,
     "metadata": {},
     "output_type": "execute_result"
    }
   ],
   "source": [
    "days.value_counts()"
   ]
  },
  {
   "cell_type": "markdown",
   "metadata": {},
   "source": [
    "### We can now close this chapter and implement this analysis."
   ]
  }
 ],
 "metadata": {
  "kernelspec": {
   "display_name": "Python 3",
   "language": "python",
   "name": "python3"
  },
  "language_info": {
   "codemirror_mode": {
    "name": "ipython",
    "version": 3
   },
   "file_extension": ".py",
   "mimetype": "text/x-python",
   "name": "python",
   "nbconvert_exporter": "python",
   "pygments_lexer": "ipython3",
   "version": "3.6.4"
  }
 },
 "nbformat": 4,
 "nbformat_minor": 2
}
